{
 "cells": [
  {
   "cell_type": "markdown",
   "id": "9a3dfde9",
   "metadata": {},
   "source": [
    "<h3>General Imports / Formatting</h3>"
   ]
  },
  {
   "cell_type": "code",
   "execution_count": 4,
   "id": "0c1be5ab",
   "metadata": {},
   "outputs": [],
   "source": [
    "import sys\n",
    "import sklearn\n",
    "import numpy as py\n",
    "import pandas as pd\n",
    "\n",
    "%matplotlib inline\n",
    "import matplotlib as mpl\n",
    "import matplotlib.pyplot as plt\n",
    "\n",
    "# get rid of \"np_float64\" in array float outputs\n",
    "py.set_printoptions(legacy='1.25')"
   ]
  },
  {
   "cell_type": "markdown",
   "id": "54fc13cd",
   "metadata": {},
   "source": [
    "<h3>Load Data in Pandas Dataframe</h3>\n",
    "<b>  Include some minor preprocessing such as :</b>\n",
    "<br>     > Target feature swapping\n",
    "<br>     > NULL acknowledgement\n",
    "<br>     > Column Swapping\n",
    "<br>     > >=90% Data Loss Column Dropping\n",
    "<br>     > ..."
   ]
  },
  {
   "cell_type": "code",
   "execution_count": null,
   "id": "5435cf2c",
   "metadata": {},
   "outputs": [],
   "source": [
    "def fetchGamesData(path):\n",
    "    return pd.read_csv(path)\n",
    "\n",
    "gamesData = fetchGamesData(\"games.csv\")\n",
    "gamesData.head()"
   ]
  }
 ],
 "metadata": {
  "kernelspec": {
   "display_name": "Python 3",
   "language": "python",
   "name": "python3"
  },
  "language_info": {
   "codemirror_mode": {
    "name": "ipython",
    "version": 3
   },
   "file_extension": ".py",
   "mimetype": "text/x-python",
   "name": "python",
   "nbconvert_exporter": "python",
   "pygments_lexer": "ipython3",
   "version": "3.12.6"
  }
 },
 "nbformat": 4,
 "nbformat_minor": 5
}
